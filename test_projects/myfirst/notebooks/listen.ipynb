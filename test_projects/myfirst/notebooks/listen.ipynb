{
 "metadata": {
  "language_info": {
   "codemirror_mode": {
    "name": "ipython",
    "version": 3
   },
   "file_extension": ".py",
   "mimetype": "text/x-python",
   "name": "python",
   "nbconvert_exporter": "python",
   "pygments_lexer": "ipython3",
   "version": "3.9.6"
  },
  "orig_nbformat": 4,
  "kernelspec": {
   "name": "python3",
   "display_name": "Python 3.9.6 64-bit"
  },
  "interpreter": {
   "hash": "14042f846377ef6343a74494fa226c1fd265be1d92c606c454a39715ac2907ed"
  }
 },
 "nbformat": 4,
 "nbformat_minor": 2,
 "cells": [
  {
   "cell_type": "code",
   "execution_count": 38,
   "metadata": {},
   "outputs": [
    {
     "output_type": "stream",
     "name": "stdout",
     "text": [
      "[436506514370, 'erentrudisstr 23/1', 5020, 341.978, 'S']\n1 strasse: erentrudisstr 23/1\n2 Alles ohne tel. Nr: ['erentrudisstr 23/1', 5020, 341.978, 'S']\n---- append  -------\n3  [436506514370, 'erentrudisstr 23/1', 5020, 341.978, 'S', 'Österreich', 'EU']\n4 ---- pop ------\nerentrudisstr 23/1\n5    - Reihenfolge ändern -  ['EU', 'Österreich', 'S', 341.978, 5020, 436506514370]\n5 sort:    [1, 3, 3, 4, 4, 5, 7, 9, 9]\n6    matrix- Zeile 2, Element 2:  5\n[1, 7, 8]\n"
     ]
    }
   ],
   "source": [
    "liste = [436506514370, \"erentrudisstr 23/1\", 5020, 341.978, \"S\"]\n",
    "print(liste)\n",
    "print(\"1 strasse: %s\" %(liste[1]))\n",
    "print(\"2 Alles ohne tel. Nr: %s\" %(liste[1:]))\n",
    "\n",
    "print(\"---- append  -------\")\n",
    "liste = liste + [\"Österreich\"]  # hinzufügen\n",
    "liste.append(\"EU\")              # hinzufügen\n",
    "print(\"3  {}\".format(liste))\n",
    "\n",
    "print(\"4 ---- pop ------\")\n",
    "pop = liste.pop(1) #strassenname aus der liste löschen\n",
    "print(pop)\n",
    "\n",
    "liste.reverse()\n",
    "print(\"5    - Reihenfolge ändern -  %s\" %(liste) )\n",
    "\n",
    "liste2 = [4,9,1,4,7,3,9,5,3]\n",
    "liste2.sort()\n",
    "print(\"5 sort:    {}\".format(liste2))\n",
    "\n",
    "list_1 = [1,9,2]\n",
    "list_2 = [7,5,3]\n",
    "list_3 = [8,6,4]\n",
    "matrix = [list_1,list_2,list_3]\n",
    "print(\"6    matrix- Zeile 2, Element 2:  %s\" %(matrix[1][1]))\n",
    "\n",
    "#erste Element aus jeder zeile des matrixes\n",
    "erste_spalte = [zeile[0] for zeile in matrix]\n",
    "print(erste_spalte)\n"
   ]
  },
  {
   "cell_type": "code",
   "execution_count": null,
   "metadata": {},
   "outputs": [],
   "source": []
  }
 ]
}