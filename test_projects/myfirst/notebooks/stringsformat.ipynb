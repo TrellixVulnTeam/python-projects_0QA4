{
 "metadata": {
  "language_info": {
   "codemirror_mode": {
    "name": "ipython",
    "version": 3
   },
   "file_extension": ".py",
   "mimetype": "text/x-python",
   "name": "python",
   "nbconvert_exporter": "python",
   "pygments_lexer": "ipython3",
   "version": "3.9.6"
  },
  "orig_nbformat": 4,
  "kernelspec": {
   "name": "python3",
   "display_name": "Python 3.9.6 64-bit"
  },
  "interpreter": {
   "hash": "14042f846377ef6343a74494fa226c1fd265be1d92c606c454a39715ac2907ed"
  }
 },
 "nbformat": 4,
 "nbformat_minor": 2,
 "cells": [
  {
   "cell_type": "code",
   "execution_count": 13,
   "metadata": {},
   "outputs": [
    {
     "output_type": "stream",
     "name": "stdout",
     "text": [
      "1 n\n2 ink\n3 rückwärts indizierung: \t!\n4 rückwärts indizierung: \ttinker\n5 tne!\n6 rückwärts ausgabe: \t!reknit\n7   AAAAAAAAAA\n8 tinker! is split at Char 'n':  ['ti', 'ker!']\n9    Mein Name: ABHIJIT CHITNIS\n10   Mein Name : Abhijit Chitnis\n11   Zinssatz der EU: 13.458200\n12   Zinssatz der EU: 13.4582 für Abhijit\n13   Zinssatz der EU: 13.4582 für 'Abhijit'\n14   Zinssatz mit Format Funktion: 13.534\n15   Zinssatz mit Format Funktion: 13.534 für Abhijit im 2021\n16   Zinssatz der EU: 2.453 für Caroline im Jahr 2021\n"
     ]
    }
   ],
   "source": [
    "# ***************************   Strings\n",
    "input1 = \"tinker!\"\n",
    "print(\"1 \" + input1[2])     # indexierung index 2 ist 'h'\n",
    "print(\"2 \" + input1[1:4])  # index 1 ist 'i' und index 4 ist 'e'. D.h. alles von index 1 ('i') bis alles vor index 4 ('e').\n",
    "\n",
    "# Strings Rückwärts Indizierung\n",
    "print(\"3 rückwärts indizierung: \\t\" + input1[-1] )\n",
    "print(\"4 rückwärts indizierung: \\t\" + input1[:-1] ) # alle elemente ab anfang an bis zum Vorletzten.\n",
    "print(\"5 \" + input1[::2])                                # Ausgabe ist jede zweite Buchstabe.\n",
    "print(\"6 rückwärts ausgabe: \\t\" + input1[::-1])                               # \n",
    "s = \"A\"\n",
    "print( \"7   %s\" %(s * 10) )                                     # ausgabe verzehnfachen\n",
    "print(\"8 %s is split at Char 'n':  %s\" %(input1, input1.split('n')) )                          # ausgabe splitten\n",
    "\n",
    "# FORMATTIERUNGEWN STRINGS\n",
    "name = \"Abhijit Chitnis\"\n",
    "print(\"9    Mein Name: %s\" %(name.upper()))\n",
    "print(\"10   Mein Name : {}\".format(\"Abhijit Chitnis\"))\n",
    "\n",
    "zinsprozent = 13.4582\n",
    "print(\"11   Zinssatz der EU: %1.6f\" %(zinsprozent))\n",
    "print(\"12   Zinssatz der EU: %s für %s\" %(zinsprozent,\"Abhijit\"))\n",
    "print(\"13   Zinssatz der EU: %r für %r\" %(zinsprozent,\"Abhijit\"))\n",
    "# Format Funktion\n",
    "print(\"14   Zinssatz mit Format Funktion: {zins}\".format(zins=13.534) )\n",
    "print(\"15   Zinssatz mit Format Funktion: {zins} für {person} im {jahr}\".format(zins=13.534, person=\"Abhijit\", jahr=2021) )\n",
    "# Tuple Übergabe\n",
    "print(\"16   Zinssatz der EU: %s für %s im Jahr %s\" %( (2.453,\"Caroline\",2021) ))\n",
    " \n"
   ]
  },
  {
   "cell_type": "code",
   "execution_count": null,
   "metadata": {},
   "outputs": [],
   "source": []
  }
 ]
}